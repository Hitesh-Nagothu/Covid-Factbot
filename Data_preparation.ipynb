{
 "cells": [
  {
   "cell_type": "code",
   "execution_count": null,
   "metadata": {},
   "outputs": [],
   "source": [
    "\"\"\"Courtesy:\n",
    "Data_Processing:https://www.kaggle.com/maksimeren/covid-19-literature-clustering\n",
    "Using BERT Embeddings: https://medium.com/swlh/a-simple-guide-on-using-bert-for-text-classification-bbf041ac8d04\n",
    "\"\"\""
   ]
  },
  {
   "cell_type": "code",
   "execution_count": 1,
   "metadata": {},
   "outputs": [],
   "source": [
    "#!pip install kaggle\n",
    "import os\n",
    "\n",
    "#!kaggle datasets download -d allen-institute-for-ai/CORD-19-research-challenge\n"
   ]
  },
  {
   "cell_type": "code",
   "execution_count": 2,
   "metadata": {},
   "outputs": [],
   "source": [
    "#!unzip  CORD-19-research-challenge.zip -d CORD-19-research-challenge/"
   ]
  },
  {
   "cell_type": "code",
   "execution_count": 4,
   "metadata": {},
   "outputs": [
    {
     "data": {
      "text/plain": [
       "134354"
      ]
     },
     "execution_count": 4,
     "metadata": {},
     "output_type": "execute_result"
    }
   ],
   "source": [
    "import glob\n",
    "import json\n",
    "import pandas as pd\n",
    "from tqdm import tqdm\n",
    "root_path = '/home/csgrad/hiteshna/.kaggle/CORD-19-research-challenge/'\n",
    "all_json = glob.glob(f'{root_path}/document_parses/pdf_json/*.json')    #retrieving all the pdf_json files only\n",
    "len(all_json)"
   ]
  },
  {
   "cell_type": "code",
   "execution_count": 5,
   "metadata": {},
   "outputs": [
    {
     "name": "stderr",
     "output_type": "stream",
     "text": [
      "/home/csgrad/hiteshna/.local/lib/python3.7/site-packages/IPython/core/interactiveshell.py:3147: DtypeWarning: Columns (1,5,13,14,15,16) have mixed types. Specify dtype option on import or set low_memory=False.\n",
      "  interactivity=interactivity, compiler=compiler, result=result)\n"
     ]
    },
    {
     "data": {
      "text/html": [
       "<div>\n",
       "<style scoped>\n",
       "    .dataframe tbody tr th:only-of-type {\n",
       "        vertical-align: middle;\n",
       "    }\n",
       "\n",
       "    .dataframe tbody tr th {\n",
       "        vertical-align: top;\n",
       "    }\n",
       "\n",
       "    .dataframe thead th {\n",
       "        text-align: right;\n",
       "    }\n",
       "</style>\n",
       "<table border=\"1\" class=\"dataframe\">\n",
       "  <thead>\n",
       "    <tr style=\"text-align: right;\">\n",
       "      <th></th>\n",
       "      <th>cord_uid</th>\n",
       "      <th>sha</th>\n",
       "      <th>source_x</th>\n",
       "      <th>title</th>\n",
       "      <th>doi</th>\n",
       "      <th>pmcid</th>\n",
       "      <th>pubmed_id</th>\n",
       "      <th>license</th>\n",
       "      <th>abstract</th>\n",
       "      <th>publish_time</th>\n",
       "      <th>authors</th>\n",
       "      <th>journal</th>\n",
       "      <th>mag_id</th>\n",
       "      <th>who_covidence_id</th>\n",
       "      <th>arxiv_id</th>\n",
       "      <th>pdf_json_files</th>\n",
       "      <th>pmc_json_files</th>\n",
       "      <th>url</th>\n",
       "      <th>s2_id</th>\n",
       "    </tr>\n",
       "  </thead>\n",
       "  <tbody>\n",
       "    <tr>\n",
       "      <th>0</th>\n",
       "      <td>ug7v899j</td>\n",
       "      <td>d1aafb70c066a2068b02786f8929fd9c900897fb</td>\n",
       "      <td>PMC</td>\n",
       "      <td>Clinical features of culture-proven Mycoplasma...</td>\n",
       "      <td>10.1186/1471-2334-1-6</td>\n",
       "      <td>PMC35282</td>\n",
       "      <td>11472636</td>\n",
       "      <td>no-cc</td>\n",
       "      <td>OBJECTIVE: This retrospective chart review des...</td>\n",
       "      <td>2001-07-04</td>\n",
       "      <td>Madani, Tariq A; Al-Ghamdi, Aisha A</td>\n",
       "      <td>BMC Infect Dis</td>\n",
       "      <td>NaN</td>\n",
       "      <td>NaN</td>\n",
       "      <td>NaN</td>\n",
       "      <td>document_parses/pdf_json/d1aafb70c066a2068b027...</td>\n",
       "      <td>document_parses/pmc_json/PMC35282.xml.json</td>\n",
       "      <td>https://www.ncbi.nlm.nih.gov/pmc/articles/PMC3...</td>\n",
       "      <td>NaN</td>\n",
       "    </tr>\n",
       "    <tr>\n",
       "      <th>1</th>\n",
       "      <td>02tnwd4m</td>\n",
       "      <td>6b0567729c2143a66d737eb0a2f63f2dce2e5a7d</td>\n",
       "      <td>PMC</td>\n",
       "      <td>Nitric oxide: a pro-inflammatory mediator in l...</td>\n",
       "      <td>10.1186/rr14</td>\n",
       "      <td>PMC59543</td>\n",
       "      <td>11667967</td>\n",
       "      <td>no-cc</td>\n",
       "      <td>Inflammatory diseases of the respiratory tract...</td>\n",
       "      <td>2000-08-15</td>\n",
       "      <td>Vliet, Albert van der; Eiserich, Jason P; Cros...</td>\n",
       "      <td>Respir Res</td>\n",
       "      <td>NaN</td>\n",
       "      <td>NaN</td>\n",
       "      <td>NaN</td>\n",
       "      <td>document_parses/pdf_json/6b0567729c2143a66d737...</td>\n",
       "      <td>document_parses/pmc_json/PMC59543.xml.json</td>\n",
       "      <td>https://www.ncbi.nlm.nih.gov/pmc/articles/PMC5...</td>\n",
       "      <td>NaN</td>\n",
       "    </tr>\n",
       "    <tr>\n",
       "      <th>2</th>\n",
       "      <td>ejv2xln0</td>\n",
       "      <td>06ced00a5fc04215949aa72528f2eeaae1d58927</td>\n",
       "      <td>PMC</td>\n",
       "      <td>Surfactant protein-D and pulmonary host defense</td>\n",
       "      <td>10.1186/rr19</td>\n",
       "      <td>PMC59549</td>\n",
       "      <td>11667972</td>\n",
       "      <td>no-cc</td>\n",
       "      <td>Surfactant protein-D (SP-D) participates in th...</td>\n",
       "      <td>2000-08-25</td>\n",
       "      <td>Crouch, Erika C</td>\n",
       "      <td>Respir Res</td>\n",
       "      <td>NaN</td>\n",
       "      <td>NaN</td>\n",
       "      <td>NaN</td>\n",
       "      <td>document_parses/pdf_json/06ced00a5fc04215949aa...</td>\n",
       "      <td>document_parses/pmc_json/PMC59549.xml.json</td>\n",
       "      <td>https://www.ncbi.nlm.nih.gov/pmc/articles/PMC5...</td>\n",
       "      <td>NaN</td>\n",
       "    </tr>\n",
       "    <tr>\n",
       "      <th>3</th>\n",
       "      <td>2b73a28n</td>\n",
       "      <td>348055649b6b8cf2b9a376498df9bf41f7123605</td>\n",
       "      <td>PMC</td>\n",
       "      <td>Role of endothelin-1 in lung disease</td>\n",
       "      <td>10.1186/rr44</td>\n",
       "      <td>PMC59574</td>\n",
       "      <td>11686871</td>\n",
       "      <td>no-cc</td>\n",
       "      <td>Endothelin-1 (ET-1) is a 21 amino acid peptide...</td>\n",
       "      <td>2001-02-22</td>\n",
       "      <td>Fagan, Karen A; McMurtry, Ivan F; Rodman, David M</td>\n",
       "      <td>Respir Res</td>\n",
       "      <td>NaN</td>\n",
       "      <td>NaN</td>\n",
       "      <td>NaN</td>\n",
       "      <td>document_parses/pdf_json/348055649b6b8cf2b9a37...</td>\n",
       "      <td>document_parses/pmc_json/PMC59574.xml.json</td>\n",
       "      <td>https://www.ncbi.nlm.nih.gov/pmc/articles/PMC5...</td>\n",
       "      <td>NaN</td>\n",
       "    </tr>\n",
       "    <tr>\n",
       "      <th>4</th>\n",
       "      <td>9785vg6d</td>\n",
       "      <td>5f48792a5fa08bed9f56016f4981ae2ca6031b32</td>\n",
       "      <td>PMC</td>\n",
       "      <td>Gene expression in epithelial cells in respons...</td>\n",
       "      <td>10.1186/rr61</td>\n",
       "      <td>PMC59580</td>\n",
       "      <td>11686888</td>\n",
       "      <td>no-cc</td>\n",
       "      <td>Respiratory syncytial virus (RSV) and pneumoni...</td>\n",
       "      <td>2001-05-11</td>\n",
       "      <td>Domachowske, Joseph B; Bonville, Cynthia A; Ro...</td>\n",
       "      <td>Respir Res</td>\n",
       "      <td>NaN</td>\n",
       "      <td>NaN</td>\n",
       "      <td>NaN</td>\n",
       "      <td>document_parses/pdf_json/5f48792a5fa08bed9f560...</td>\n",
       "      <td>document_parses/pmc_json/PMC59580.xml.json</td>\n",
       "      <td>https://www.ncbi.nlm.nih.gov/pmc/articles/PMC5...</td>\n",
       "      <td>NaN</td>\n",
       "    </tr>\n",
       "  </tbody>\n",
       "</table>\n",
       "</div>"
      ],
      "text/plain": [
       "   cord_uid                                       sha source_x  \\\n",
       "0  ug7v899j  d1aafb70c066a2068b02786f8929fd9c900897fb      PMC   \n",
       "1  02tnwd4m  6b0567729c2143a66d737eb0a2f63f2dce2e5a7d      PMC   \n",
       "2  ejv2xln0  06ced00a5fc04215949aa72528f2eeaae1d58927      PMC   \n",
       "3  2b73a28n  348055649b6b8cf2b9a376498df9bf41f7123605      PMC   \n",
       "4  9785vg6d  5f48792a5fa08bed9f56016f4981ae2ca6031b32      PMC   \n",
       "\n",
       "                                               title                    doi  \\\n",
       "0  Clinical features of culture-proven Mycoplasma...  10.1186/1471-2334-1-6   \n",
       "1  Nitric oxide: a pro-inflammatory mediator in l...           10.1186/rr14   \n",
       "2    Surfactant protein-D and pulmonary host defense           10.1186/rr19   \n",
       "3               Role of endothelin-1 in lung disease           10.1186/rr44   \n",
       "4  Gene expression in epithelial cells in respons...           10.1186/rr61   \n",
       "\n",
       "      pmcid pubmed_id license  \\\n",
       "0  PMC35282  11472636   no-cc   \n",
       "1  PMC59543  11667967   no-cc   \n",
       "2  PMC59549  11667972   no-cc   \n",
       "3  PMC59574  11686871   no-cc   \n",
       "4  PMC59580  11686888   no-cc   \n",
       "\n",
       "                                            abstract publish_time  \\\n",
       "0  OBJECTIVE: This retrospective chart review des...   2001-07-04   \n",
       "1  Inflammatory diseases of the respiratory tract...   2000-08-15   \n",
       "2  Surfactant protein-D (SP-D) participates in th...   2000-08-25   \n",
       "3  Endothelin-1 (ET-1) is a 21 amino acid peptide...   2001-02-22   \n",
       "4  Respiratory syncytial virus (RSV) and pneumoni...   2001-05-11   \n",
       "\n",
       "                                             authors         journal  mag_id  \\\n",
       "0                Madani, Tariq A; Al-Ghamdi, Aisha A  BMC Infect Dis     NaN   \n",
       "1  Vliet, Albert van der; Eiserich, Jason P; Cros...      Respir Res     NaN   \n",
       "2                                    Crouch, Erika C      Respir Res     NaN   \n",
       "3  Fagan, Karen A; McMurtry, Ivan F; Rodman, David M      Respir Res     NaN   \n",
       "4  Domachowske, Joseph B; Bonville, Cynthia A; Ro...      Respir Res     NaN   \n",
       "\n",
       "  who_covidence_id arxiv_id  \\\n",
       "0              NaN      NaN   \n",
       "1              NaN      NaN   \n",
       "2              NaN      NaN   \n",
       "3              NaN      NaN   \n",
       "4              NaN      NaN   \n",
       "\n",
       "                                      pdf_json_files  \\\n",
       "0  document_parses/pdf_json/d1aafb70c066a2068b027...   \n",
       "1  document_parses/pdf_json/6b0567729c2143a66d737...   \n",
       "2  document_parses/pdf_json/06ced00a5fc04215949aa...   \n",
       "3  document_parses/pdf_json/348055649b6b8cf2b9a37...   \n",
       "4  document_parses/pdf_json/5f48792a5fa08bed9f560...   \n",
       "\n",
       "                               pmc_json_files  \\\n",
       "0  document_parses/pmc_json/PMC35282.xml.json   \n",
       "1  document_parses/pmc_json/PMC59543.xml.json   \n",
       "2  document_parses/pmc_json/PMC59549.xml.json   \n",
       "3  document_parses/pmc_json/PMC59574.xml.json   \n",
       "4  document_parses/pmc_json/PMC59580.xml.json   \n",
       "\n",
       "                                                 url  s2_id  \n",
       "0  https://www.ncbi.nlm.nih.gov/pmc/articles/PMC3...    NaN  \n",
       "1  https://www.ncbi.nlm.nih.gov/pmc/articles/PMC5...    NaN  \n",
       "2  https://www.ncbi.nlm.nih.gov/pmc/articles/PMC5...    NaN  \n",
       "3  https://www.ncbi.nlm.nih.gov/pmc/articles/PMC5...    NaN  \n",
       "4  https://www.ncbi.nlm.nih.gov/pmc/articles/PMC5...    NaN  "
      ]
     },
     "execution_count": 5,
     "metadata": {},
     "output_type": "execute_result"
    }
   ],
   "source": [
    "metadata_path = f'{root_path}/metadata.csv'\n",
    "meta_df = pd.read_csv(metadata_path, dtype={\n",
    "    'pubmed_id': str,\n",
    "    'Microsoft Academic Paper ID': str, \n",
    "    'doi': str\n",
    "})\n",
    "meta_df.head()"
   ]
  },
  {
   "cell_type": "code",
   "execution_count": 6,
   "metadata": {},
   "outputs": [
    {
     "name": "stdout",
     "output_type": "stream",
     "text": [
      "397ab50fc7fc1e65bc71f9856dcec950c5a249c3: Aim: To estimate time to getting off supplemental oxygen therapy and identify predictors among COVID-19 patients admitted to Millennium COVID-19 Care Center in Addis Ababa, Ethiopia.\n",
      "Methods: A prospe... The 2019 corona virus disease was first identified in China on December 2019 and later spread to the entire world and declared to be a pandemic by world health organization on March 11, 2020 1 . In Et...\n"
     ]
    }
   ],
   "source": [
    "class FileReader:\n",
    "    def __init__(self, file_path):\n",
    "        with open(file_path) as file:\n",
    "            content = json.load(file)\n",
    "            self.paper_id = content['paper_id']\n",
    "            self.abstract = []\n",
    "            self.body_text = []\n",
    "            # Abstract\n",
    "            for entry in content['abstract']:\n",
    "                self.abstract.append(entry['text'])\n",
    "            # Body text\n",
    "            for entry in content['body_text']:\n",
    "                self.body_text.append(entry['text'])\n",
    "            self.abstract = '\\n'.join(self.abstract)\n",
    "            self.body_text = '\\n'.join(self.body_text)\n",
    "    def __repr__(self):\n",
    "        return f'{self.paper_id}: {self.abstract[:200]}... {self.body_text[:200]}...'\n",
    "first_row = FileReader(all_json[0])\n",
    "print(first_row)"
   ]
  },
  {
   "cell_type": "code",
   "execution_count": 7,
   "metadata": {},
   "outputs": [],
   "source": [
    "def get_breaks(content, length):\n",
    "    data = \"\"\n",
    "    words = content.split(' ')\n",
    "    total_chars = 0\n",
    "\n",
    "    # add break every length characters\n",
    "    for i in range(len(words)):\n",
    "        total_chars += len(words[i])\n",
    "        if total_chars > length:\n",
    "            data = data + \"<br>\" + words[i]\n",
    "            total_chars = 0\n",
    "        else:\n",
    "            data = data + \" \" + words[i]\n",
    "    return data"
   ]
  },
  {
   "cell_type": "code",
   "execution_count": 8,
   "metadata": {},
   "outputs": [
    {
     "name": "stdout",
     "output_type": "stream",
     "text": [
      "Processing index: 0 of 134354\n",
      "Processing index: 13435 of 134354\n",
      "Processing index: 26870 of 134354\n",
      "Processing index: 40305 of 134354\n",
      "Processing index: 53740 of 134354\n",
      "Processing index: 67175 of 134354\n",
      "Processing index: 80610 of 134354\n",
      "Processing index: 94045 of 134354\n",
      "Processing index: 107480 of 134354\n",
      "Processing index: 120915 of 134354\n",
      "Processing index: 134350 of 134354\n"
     ]
    },
    {
     "data": {
      "text/html": [
       "<div>\n",
       "<style scoped>\n",
       "    .dataframe tbody tr th:only-of-type {\n",
       "        vertical-align: middle;\n",
       "    }\n",
       "\n",
       "    .dataframe tbody tr th {\n",
       "        vertical-align: top;\n",
       "    }\n",
       "\n",
       "    .dataframe thead th {\n",
       "        text-align: right;\n",
       "    }\n",
       "</style>\n",
       "<table border=\"1\" class=\"dataframe\">\n",
       "  <thead>\n",
       "    <tr style=\"text-align: right;\">\n",
       "      <th></th>\n",
       "      <th>paper_id</th>\n",
       "      <th>abstract</th>\n",
       "      <th>body_text</th>\n",
       "      <th>authors</th>\n",
       "      <th>title</th>\n",
       "      <th>journal</th>\n",
       "      <th>abstract_summary</th>\n",
       "    </tr>\n",
       "  </thead>\n",
       "  <tbody>\n",
       "    <tr>\n",
       "      <th>0</th>\n",
       "      <td>397ab50fc7fc1e65bc71f9856dcec950c5a249c3</td>\n",
       "      <td>Aim: To estimate time to getting off supplemen...</td>\n",
       "      <td>The 2019 corona virus disease was first identi...</td>\n",
       "      <td>Leulseged, T. W..  Hassen, I. S....</td>\n",
       "      <td>Duration of Oxygen Requirement and Predictors...</td>\n",
       "      <td>NaN</td>\n",
       "      <td>Aim: To estimate time to getting off&lt;br&gt;suppl...</td>\n",
       "    </tr>\n",
       "    <tr>\n",
       "      <th>1</th>\n",
       "      <td>5b6020d44b406b856ea26326d2e1763925050bf9</td>\n",
       "      <td>The serologic response of individuals with mil...</td>\n",
       "      <td>A novel human coronavirus that is now named se...</td>\n",
       "      <td>Fafi-Kremer, S..  Bruel, T....</td>\n",
       "      <td>Serologic responses to SARS-CoV-2 infection&lt;b...</td>\n",
       "      <td>NaN</td>\n",
       "      <td>The serologic response of individuals with&lt;br...</td>\n",
       "    </tr>\n",
       "    <tr>\n",
       "      <th>2</th>\n",
       "      <td>003d88ea27bb48a2cfa96e491dbd4a9740b041bb</td>\n",
       "      <td>Effective property prediction methods can help...</td>\n",
       "      <td>The race to identify promising repurposing dru...</td>\n",
       "      <td>Jin, Wengong.  Barzilay, Regina...</td>\n",
       "      <td>Adaptive Invariance for Molecule Property&lt;br&gt;...</td>\n",
       "      <td>NaN</td>\n",
       "      <td>Effective property prediction methods can&lt;br&gt;...</td>\n",
       "    </tr>\n",
       "    <tr>\n",
       "      <th>3</th>\n",
       "      <td>372947b39005f7105cf7ecd4ce618174a655f9be</td>\n",
       "      <td>In this paper, we study the effectiveness of t...</td>\n",
       "      <td>In December 2019, a novel strand of Coronaviru...</td>\n",
       "      <td>Cooper, Ian.  Mondal, Argha...</td>\n",
       "      <td>A SIR model assumption for the spread of&lt;br&gt;C...</td>\n",
       "      <td>Chaos Solitons Fractals</td>\n",
       "      <td>In this paper, we study the effectiveness of ...</td>\n",
       "    </tr>\n",
       "    <tr>\n",
       "      <th>4</th>\n",
       "      <td>11d016e4272c8a89fe7986afde61e6fb91908304</td>\n",
       "      <td>Interferences between pathogenic bacteria and ...</td>\n",
       "      <td>Otitis media is a common childhood disease; it...</td>\n",
       "      <td>Chonmaitree, Tasnee.  Jennings, Kristofer...</td>\n",
       "      <td>Nasopharyngeal microbiota in infants and&lt;br&gt;c...</td>\n",
       "      <td>PLoS One</td>\n",
       "      <td>Interferences between pathogenic bacteria&lt;br&gt;...</td>\n",
       "    </tr>\n",
       "  </tbody>\n",
       "</table>\n",
       "</div>"
      ],
      "text/plain": [
       "                                   paper_id  \\\n",
       "0  397ab50fc7fc1e65bc71f9856dcec950c5a249c3   \n",
       "1  5b6020d44b406b856ea26326d2e1763925050bf9   \n",
       "2  003d88ea27bb48a2cfa96e491dbd4a9740b041bb   \n",
       "3  372947b39005f7105cf7ecd4ce618174a655f9be   \n",
       "4  11d016e4272c8a89fe7986afde61e6fb91908304   \n",
       "\n",
       "                                            abstract  \\\n",
       "0  Aim: To estimate time to getting off supplemen...   \n",
       "1  The serologic response of individuals with mil...   \n",
       "2  Effective property prediction methods can help...   \n",
       "3  In this paper, we study the effectiveness of t...   \n",
       "4  Interferences between pathogenic bacteria and ...   \n",
       "\n",
       "                                           body_text  \\\n",
       "0  The 2019 corona virus disease was first identi...   \n",
       "1  A novel human coronavirus that is now named se...   \n",
       "2  The race to identify promising repurposing dru...   \n",
       "3  In December 2019, a novel strand of Coronaviru...   \n",
       "4  Otitis media is a common childhood disease; it...   \n",
       "\n",
       "                                        authors  \\\n",
       "0           Leulseged, T. W..  Hassen, I. S....   \n",
       "1                Fafi-Kremer, S..  Bruel, T....   \n",
       "2            Jin, Wengong.  Barzilay, Regina...   \n",
       "3                Cooper, Ian.  Mondal, Argha...   \n",
       "4  Chonmaitree, Tasnee.  Jennings, Kristofer...   \n",
       "\n",
       "                                               title                  journal  \\\n",
       "0   Duration of Oxygen Requirement and Predictors...                      NaN   \n",
       "1   Serologic responses to SARS-CoV-2 infection<b...                      NaN   \n",
       "2   Adaptive Invariance for Molecule Property<br>...                      NaN   \n",
       "3   A SIR model assumption for the spread of<br>C...  Chaos Solitons Fractals   \n",
       "4   Nasopharyngeal microbiota in infants and<br>c...                 PLoS One   \n",
       "\n",
       "                                    abstract_summary  \n",
       "0   Aim: To estimate time to getting off<br>suppl...  \n",
       "1   The serologic response of individuals with<br...  \n",
       "2   Effective property prediction methods can<br>...  \n",
       "3   In this paper, we study the effectiveness of ...  \n",
       "4   Interferences between pathogenic bacteria<br>...  "
      ]
     },
     "execution_count": 8,
     "metadata": {},
     "output_type": "execute_result"
    }
   ],
   "source": [
    "dict_ = {'paper_id': [], 'abstract': [], 'body_text': [], 'authors': [], 'title': [], 'journal': [], 'abstract_summary': []}\n",
    "for idx, entry in enumerate(all_json):\n",
    "    if idx % (len(all_json) // 10) == 0:\n",
    "        print(f'Processing index: {idx} of {len(all_json)}')\n",
    "    content = FileReader(entry)\n",
    "    \n",
    "    # get metadata information\n",
    "    meta_data = meta_df.loc[meta_df['sha'] == content.paper_id]\n",
    "    # no metadata, skip this paper\n",
    "    if len(meta_data) == 0:\n",
    "        continue\n",
    "    \n",
    "    dict_['paper_id'].append(content.paper_id)\n",
    "    dict_['abstract'].append(content.abstract)\n",
    "    dict_['body_text'].append(content.body_text)\n",
    "    \n",
    "    #create a column for the summary of abstract to be used in a plot\n",
    "    if len(content.abstract) == 0: \n",
    "        # no abstract provided\n",
    "        dict_['abstract_summary'].append(\"Not provided.\")\n",
    "    elif len(content.abstract.split(' ')) > 100:\n",
    "        # abstract provided is too long for plot, take first 300 words append with ...\n",
    "        info = content.abstract.split(' ')[:100]\n",
    "        summary = get_breaks(' '.join(info), 40)\n",
    "        dict_['abstract_summary'].append(summary + \"...\")\n",
    "    else:\n",
    "        # abstract is short enough\n",
    "        summary = get_breaks(content.abstract, 40)\n",
    "        dict_['abstract_summary'].append(summary)\n",
    "        \n",
    "    # get metadata information\n",
    "    meta_data = meta_df.loc[meta_df['sha'] == content.paper_id]\n",
    "    \n",
    "    try:\n",
    "        # if more than one author\n",
    "        authors = meta_data['authors'].values[0].split(';')\n",
    "        if len(authors) > 2:\n",
    "            # more than 2 authors, may be problem when plotting, so take first 2 append with ...\n",
    "            dict_['authors'].append(\". \".join(authors[:2]) + \"...\")\n",
    "        else:\n",
    "            # authors will fit in plot\n",
    "            dict_['authors'].append(\". \".join(authors))\n",
    "    except Exception as e:\n",
    "        # if only one author - or Null valie\n",
    "        dict_['authors'].append(meta_data['authors'].values[0])\n",
    "    \n",
    "    # add the title information, add breaks when needed\n",
    "    try:\n",
    "        title = get_breaks(meta_data['title'].values[0], 40)\n",
    "        dict_['title'].append(title)\n",
    "    # if title was not provided\n",
    "    except Exception as e:\n",
    "        dict_['title'].append(meta_data['title'].values[0])\n",
    "    \n",
    "    # add the journal information\n",
    "    dict_['journal'].append(meta_data['journal'].values[0])\n",
    "    \n",
    "df_covid = pd.DataFrame(dict_, columns=['paper_id', 'abstract', 'body_text', 'authors', 'title', 'journal', 'abstract_summary'])\n",
    "df_covid.head()"
   ]
  },
  {
   "cell_type": "code",
   "execution_count": 9,
   "metadata": {},
   "outputs": [],
   "source": [
    "import pickle"
   ]
  },
  {
   "cell_type": "code",
   "execution_count": 11,
   "metadata": {},
   "outputs": [],
   "source": [
    "df_covid.to_pickle('df_covid.pkl')"
   ]
  },
  {
   "cell_type": "code",
   "execution_count": 10,
   "metadata": {},
   "outputs": [
    {
     "data": {
      "text/plain": [
       "119594"
      ]
     },
     "execution_count": 10,
     "metadata": {},
     "output_type": "execute_result"
    }
   ],
   "source": [
    "len(df_covid)"
   ]
  },
  {
   "cell_type": "code",
   "execution_count": 13,
   "metadata": {},
   "outputs": [
    {
     "data": {
      "text/plain": [
       "(119594, 7)"
      ]
     },
     "execution_count": 13,
     "metadata": {},
     "output_type": "execute_result"
    }
   ],
   "source": [
    "df_covid.shape"
   ]
  },
  {
   "cell_type": "code",
   "execution_count": 14,
   "metadata": {},
   "outputs": [
    {
     "data": {
      "text/plain": [
       "count     119366\n",
       "unique     81631\n",
       "top             \n",
       "freq       37187\n",
       "Name: abstract, dtype: object"
      ]
     },
     "execution_count": 14,
     "metadata": {},
     "output_type": "execute_result"
    }
   ],
   "source": [
    "df_covid.drop_duplicates(['abstract', 'body_text'], inplace=True)\n",
    "df_covid['abstract'].describe(include='all')"
   ]
  },
  {
   "cell_type": "code",
   "execution_count": 16,
   "metadata": {},
   "outputs": [
    {
     "name": "stdout",
     "output_type": "stream",
     "text": [
      "<class 'pandas.core.frame.DataFrame'>\n",
      "Int64Index: 105889 entries, 3 to 119593\n",
      "Data columns (total 7 columns):\n",
      "paper_id            105889 non-null object\n",
      "abstract            105889 non-null object\n",
      "body_text           105889 non-null object\n",
      "authors             105889 non-null object\n",
      "title               105889 non-null object\n",
      "journal             105889 non-null object\n",
      "abstract_summary    105889 non-null object\n",
      "dtypes: object(7)\n",
      "memory usage: 6.5+ MB\n"
     ]
    }
   ],
   "source": [
    "\n",
    "df_covid.dropna(inplace=True)\n",
    "df_covid.info()"
   ]
  },
  {
   "cell_type": "code",
   "execution_count": 17,
   "metadata": {},
   "outputs": [],
   "source": [
    "\n",
    "df_covid = df_covid.head(12500)"
   ]
  },
  {
   "cell_type": "code",
   "execution_count": 18,
   "metadata": {},
   "outputs": [],
   "source": [
    "\n",
    "import re\n",
    "\n",
    "df_covid['body_text'] = df_covid['body_text'].apply(lambda x: re.sub('[^a-zA-z0-9\\s]','',x))\n",
    "df_covid['abstract'] = df_covid['abstract'].apply(lambda x: re.sub('[^a-zA-z0-9\\s]','',x))"
   ]
  },
  {
   "cell_type": "code",
   "execution_count": 19,
   "metadata": {},
   "outputs": [],
   "source": [
    "def lower_case(input_str):\n",
    "    input_str = input_str.lower()\n",
    "    return input_str\n",
    "\n",
    "df_covid['body_text'] = df_covid['body_text'].apply(lambda x: lower_case(x))\n",
    "df_covid['abstract'] = df_covid['abstract'].apply(lambda x: lower_case(x))"
   ]
  },
  {
   "cell_type": "code",
   "execution_count": 20,
   "metadata": {},
   "outputs": [
    {
     "data": {
      "text/html": [
       "<div>\n",
       "<style scoped>\n",
       "    .dataframe tbody tr th:only-of-type {\n",
       "        vertical-align: middle;\n",
       "    }\n",
       "\n",
       "    .dataframe tbody tr th {\n",
       "        vertical-align: top;\n",
       "    }\n",
       "\n",
       "    .dataframe thead th {\n",
       "        text-align: right;\n",
       "    }\n",
       "</style>\n",
       "<table border=\"1\" class=\"dataframe\">\n",
       "  <thead>\n",
       "    <tr style=\"text-align: right;\">\n",
       "      <th></th>\n",
       "      <th>paper_id</th>\n",
       "      <th>abstract</th>\n",
       "      <th>body_text</th>\n",
       "      <th>authors</th>\n",
       "      <th>title</th>\n",
       "      <th>journal</th>\n",
       "      <th>abstract_summary</th>\n",
       "    </tr>\n",
       "  </thead>\n",
       "  <tbody>\n",
       "    <tr>\n",
       "      <th>3</th>\n",
       "      <td>372947b39005f7105cf7ecd4ce618174a655f9be</td>\n",
       "      <td>in this paper we study the effectiveness of th...</td>\n",
       "      <td>in december 2019 a novel strand of coronavirus...</td>\n",
       "      <td>Cooper, Ian.  Mondal, Argha...</td>\n",
       "      <td>A SIR model assumption for the spread of&lt;br&gt;C...</td>\n",
       "      <td>Chaos Solitons Fractals</td>\n",
       "      <td>In this paper, we study the effectiveness of ...</td>\n",
       "    </tr>\n",
       "    <tr>\n",
       "      <th>4</th>\n",
       "      <td>11d016e4272c8a89fe7986afde61e6fb91908304</td>\n",
       "      <td>interferences between pathogenic bacteria and ...</td>\n",
       "      <td>otitis media is a common childhood disease it ...</td>\n",
       "      <td>Chonmaitree, Tasnee.  Jennings, Kristofer...</td>\n",
       "      <td>Nasopharyngeal microbiota in infants and&lt;br&gt;c...</td>\n",
       "      <td>PLoS One</td>\n",
       "      <td>Interferences between pathogenic bacteria&lt;br&gt;...</td>\n",
       "    </tr>\n",
       "    <tr>\n",
       "      <th>5</th>\n",
       "      <td>72e7cb2184c9622cb852a98a88f3ed091d97bd00</td>\n",
       "      <td></td>\n",
       "      <td>travel can provide access to employment and ed...</td>\n",
       "      <td>Mindell, Jennifer S..  Ergler, Christina...</td>\n",
       "      <td>Taking the bus? Barriers and facilitators for...</td>\n",
       "      <td>Travel Behav Soc</td>\n",
       "      <td>Not provided.</td>\n",
       "    </tr>\n",
       "    <tr>\n",
       "      <th>6</th>\n",
       "      <td>d179f9a68fc31e1c2da3c0af5328f9fa093b979c</td>\n",
       "      <td></td>\n",
       "      <td>to infectious diseases considerably more death...</td>\n",
       "      <td>Mak, Tak W..  Saunders, Mary E.</td>\n",
       "      <td>Immunity to Pathogens</td>\n",
       "      <td>The Immune Response</td>\n",
       "      <td>Not provided.</td>\n",
       "    </tr>\n",
       "  </tbody>\n",
       "</table>\n",
       "</div>"
      ],
      "text/plain": [
       "                                   paper_id  \\\n",
       "3  372947b39005f7105cf7ecd4ce618174a655f9be   \n",
       "4  11d016e4272c8a89fe7986afde61e6fb91908304   \n",
       "5  72e7cb2184c9622cb852a98a88f3ed091d97bd00   \n",
       "6  d179f9a68fc31e1c2da3c0af5328f9fa093b979c   \n",
       "\n",
       "                                            abstract  \\\n",
       "3  in this paper we study the effectiveness of th...   \n",
       "4  interferences between pathogenic bacteria and ...   \n",
       "5                                                      \n",
       "6                                                      \n",
       "\n",
       "                                           body_text  \\\n",
       "3  in december 2019 a novel strand of coronavirus...   \n",
       "4  otitis media is a common childhood disease it ...   \n",
       "5  travel can provide access to employment and ed...   \n",
       "6  to infectious diseases considerably more death...   \n",
       "\n",
       "                                        authors  \\\n",
       "3                Cooper, Ian.  Mondal, Argha...   \n",
       "4  Chonmaitree, Tasnee.  Jennings, Kristofer...   \n",
       "5   Mindell, Jennifer S..  Ergler, Christina...   \n",
       "6               Mak, Tak W..  Saunders, Mary E.   \n",
       "\n",
       "                                               title                  journal  \\\n",
       "3   A SIR model assumption for the spread of<br>C...  Chaos Solitons Fractals   \n",
       "4   Nasopharyngeal microbiota in infants and<br>c...                 PLoS One   \n",
       "5   Taking the bus? Barriers and facilitators for...         Travel Behav Soc   \n",
       "6                              Immunity to Pathogens      The Immune Response   \n",
       "\n",
       "                                    abstract_summary  \n",
       "3   In this paper, we study the effectiveness of ...  \n",
       "4   Interferences between pathogenic bacteria<br>...  \n",
       "5                                      Not provided.  \n",
       "6                                      Not provided.  "
      ]
     },
     "execution_count": 20,
     "metadata": {},
     "output_type": "execute_result"
    }
   ],
   "source": [
    "df_covid.head(4)\n"
   ]
  },
  {
   "cell_type": "code",
   "execution_count": 24,
   "metadata": {},
   "outputs": [],
   "source": [
    "os.makedirs(\"Data\")\n",
    "df_covid.to_csv(\"Data/covid.csv\")"
   ]
  },
  {
   "cell_type": "code",
   "execution_count": 25,
   "metadata": {},
   "outputs": [
    {
     "data": {
      "text/html": [
       "<div>\n",
       "<style scoped>\n",
       "    .dataframe tbody tr th:only-of-type {\n",
       "        vertical-align: middle;\n",
       "    }\n",
       "\n",
       "    .dataframe tbody tr th {\n",
       "        vertical-align: top;\n",
       "    }\n",
       "\n",
       "    .dataframe thead th {\n",
       "        text-align: right;\n",
       "    }\n",
       "</style>\n",
       "<table border=\"1\" class=\"dataframe\">\n",
       "  <thead>\n",
       "    <tr style=\"text-align: right;\">\n",
       "      <th></th>\n",
       "      <th>paper_id</th>\n",
       "      <th>abstract</th>\n",
       "      <th>body_text</th>\n",
       "      <th>title</th>\n",
       "      <th>abstract_summary</th>\n",
       "    </tr>\n",
       "  </thead>\n",
       "  <tbody>\n",
       "    <tr>\n",
       "      <th>0</th>\n",
       "      <td>372947b39005f7105cf7ecd4ce618174a655f9be</td>\n",
       "      <td>in this paper we study the effectiveness of th...</td>\n",
       "      <td>in december 2019 a novel strand of coronavirus...</td>\n",
       "      <td>A SIR model assumption for the spread of&lt;br&gt;C...</td>\n",
       "      <td>In this paper, we study the effectiveness of ...</td>\n",
       "    </tr>\n",
       "    <tr>\n",
       "      <th>1</th>\n",
       "      <td>11d016e4272c8a89fe7986afde61e6fb91908304</td>\n",
       "      <td>interferences between pathogenic bacteria and ...</td>\n",
       "      <td>otitis media is a common childhood disease it ...</td>\n",
       "      <td>Nasopharyngeal microbiota in infants and&lt;br&gt;c...</td>\n",
       "      <td>Interferences between pathogenic bacteria&lt;br&gt;...</td>\n",
       "    </tr>\n",
       "    <tr>\n",
       "      <th>2</th>\n",
       "      <td>72e7cb2184c9622cb852a98a88f3ed091d97bd00</td>\n",
       "      <td>NaN</td>\n",
       "      <td>travel can provide access to employment and ed...</td>\n",
       "      <td>Taking the bus? Barriers and facilitators for...</td>\n",
       "      <td>Not provided.</td>\n",
       "    </tr>\n",
       "    <tr>\n",
       "      <th>3</th>\n",
       "      <td>d179f9a68fc31e1c2da3c0af5328f9fa093b979c</td>\n",
       "      <td>NaN</td>\n",
       "      <td>to infectious diseases considerably more death...</td>\n",
       "      <td>Immunity to Pathogens</td>\n",
       "      <td>Not provided.</td>\n",
       "    </tr>\n",
       "    <tr>\n",
       "      <th>4</th>\n",
       "      <td>57b8b330da231d213323e2aefd28efd74ca6cddd</td>\n",
       "      <td>NaN</td>\n",
       "      <td>direct detection of viral antigens and virussp...</td>\n",
       "      <td>Molecular Techniques for Blood and Blood&lt;br&gt;P...</td>\n",
       "      <td>Not provided.</td>\n",
       "    </tr>\n",
       "  </tbody>\n",
       "</table>\n",
       "</div>"
      ],
      "text/plain": [
       "                                   paper_id  \\\n",
       "0  372947b39005f7105cf7ecd4ce618174a655f9be   \n",
       "1  11d016e4272c8a89fe7986afde61e6fb91908304   \n",
       "2  72e7cb2184c9622cb852a98a88f3ed091d97bd00   \n",
       "3  d179f9a68fc31e1c2da3c0af5328f9fa093b979c   \n",
       "4  57b8b330da231d213323e2aefd28efd74ca6cddd   \n",
       "\n",
       "                                            abstract  \\\n",
       "0  in this paper we study the effectiveness of th...   \n",
       "1  interferences between pathogenic bacteria and ...   \n",
       "2                                                NaN   \n",
       "3                                                NaN   \n",
       "4                                                NaN   \n",
       "\n",
       "                                           body_text  \\\n",
       "0  in december 2019 a novel strand of coronavirus...   \n",
       "1  otitis media is a common childhood disease it ...   \n",
       "2  travel can provide access to employment and ed...   \n",
       "3  to infectious diseases considerably more death...   \n",
       "4  direct detection of viral antigens and virussp...   \n",
       "\n",
       "                                               title  \\\n",
       "0   A SIR model assumption for the spread of<br>C...   \n",
       "1   Nasopharyngeal microbiota in infants and<br>c...   \n",
       "2   Taking the bus? Barriers and facilitators for...   \n",
       "3                              Immunity to Pathogens   \n",
       "4   Molecular Techniques for Blood and Blood<br>P...   \n",
       "\n",
       "                                    abstract_summary  \n",
       "0   In this paper, we study the effectiveness of ...  \n",
       "1   Interferences between pathogenic bacteria<br>...  \n",
       "2                                      Not provided.  \n",
       "3                                      Not provided.  \n",
       "4                                      Not provided.  "
      ]
     },
     "execution_count": 25,
     "metadata": {},
     "output_type": "execute_result"
    }
   ],
   "source": [
    "df_covid_test = pd.read_csv(\"Data/covid.csv\")\n",
    "text = df_covid_test.drop([\"authors\", \"journal\", \"Unnamed: 0\"], axis=1)\n",
    "text.head(5)"
   ]
  },
  {
   "cell_type": "code",
   "execution_count": 26,
   "metadata": {},
   "outputs": [],
   "source": [
    "text_dict = text.to_dict()\n",
    "len_text = len(text_dict[\"paper_id\"])\n"
   ]
  },
  {
   "cell_type": "code",
   "execution_count": 27,
   "metadata": {},
   "outputs": [
    {
     "name": "stderr",
     "output_type": "stream",
     "text": [
      "100%|██████████| 12500/12500 [00:00<00:00, 13802.65it/s]\n"
     ]
    }
   ],
   "source": [
    "paper_id_list  = []\n",
    "body_text_list = []\n",
    "\n",
    "title_list = []\n",
    "abstract_list = []\n",
    "abstract_summary_list = []\n",
    "for i in tqdm(range(0,len_text)):\n",
    "  paper_id = text_dict[\"paper_id\"][i]\n",
    "  body_text = text_dict[\"body_text\"][i].split(\"\\n\")\n",
    "  title = text_dict[\"title\"][i]\n",
    "  abstract = text_dict[\"abstract\"][i]\n",
    "  abstract_summary = text_dict[\"abstract_summary\"][i]\n",
    "  for b in body_text:\n",
    "    paper_id_list.append(paper_id)\n",
    "    body_text_list.append(b)\n",
    "    title_list.append(title)\n",
    "    abstract_list.append(abstract)\n",
    "    abstract_summary_list.append(abstract_summary)"
   ]
  },
  {
   "cell_type": "code",
   "execution_count": 29,
   "metadata": {},
   "outputs": [
    {
     "data": {
      "text/html": [
       "<div>\n",
       "<style scoped>\n",
       "    .dataframe tbody tr th:only-of-type {\n",
       "        vertical-align: middle;\n",
       "    }\n",
       "\n",
       "    .dataframe tbody tr th {\n",
       "        vertical-align: top;\n",
       "    }\n",
       "\n",
       "    .dataframe thead th {\n",
       "        text-align: right;\n",
       "    }\n",
       "</style>\n",
       "<table border=\"1\" class=\"dataframe\">\n",
       "  <thead>\n",
       "    <tr style=\"text-align: right;\">\n",
       "      <th></th>\n",
       "      <th>paper_id</th>\n",
       "    </tr>\n",
       "  </thead>\n",
       "  <tbody>\n",
       "    <tr>\n",
       "      <th>in december 2019 a novel strand of coronavirus sarscov2 was identified in wuhan hubei province china causing a severe and potentially fatal respiratory syndrome ie covid19 since then it has become a pandemic declared by world health organization who on march 11 which has spread around the globe [1 2 3 4 5]  who published in its website preliminary guidelines with public health care for the countries to deal with the 5 pandemic [6]  since then the infectious disease has become a public health threat italy and usa are severely affected by covid19 [7 8 9]  millions of people are forced by national governments to stay in selfisolation and in difficult conditions the disease is growing fast in many countries around the world in the absence of availability of a proper medicine or vaccine currently social distancing selfquarantine and wearing a face mask have been emerged as the most widelyused strategy for the mitigation and control of the pandemic 10 in this context mathematical models are required to estimate disease transmission recovery deaths and other significant parameters separately for various countries that is for different specific regions of high to low reported cases of covid19 different countries have already taken precise and differentiated measures that are important to control the spread of the disease however still now important factors such as population density insufficient evidence for different symptoms transmission mechanism and unavailability of a proper vaccine makes it difficult 15 to deal with such a highly infectious and deadly disease especially in high population density countries such as india [10 11 12]  recently many research articles have adopted the modelling approach using real incidence datasets from affected countries and have investigated different characteristics as a function of various parameters of the outbreak and the effects of intervention strategies in different countries respective to their current situations</th>\n",
       "      <td>372947b39005f7105cf7ecd4ce618174a655f9be</td>\n",
       "    </tr>\n",
       "    <tr>\n",
       "      <th>it is imperative that mathematical models are developed to provide insights and make predictions about the 20 pandemic to plan effective control strategies and policies [13 14 15]  modelling approaches [8 16 17 18 19 20 21] are helpful to understand and predict the possibility and severity of the disease outbreak and provide key information to determine the intensity of covid19 disease intervention the susceptibleinfectedremoved sir model and its extended modifications [22 23 24 25]  such as the extendedsusceptibleinfectedremoved esir mathematical model in various forms have been used in previous studies [26 27 28] to model the spread of 25 covid19 within communities</th>\n",
       "      <td>372947b39005f7105cf7ecd4ce618174a655f9be</td>\n",
       "    </tr>\n",
       "    <tr>\n",
       "      <th>here we propose the use of a novel sir model with different characteristics one of the major assumptions of the classic sir model is that there is a homogeneous mixing of the infected and susceptible populations and that the total population is constant in time in the classic sir model the susceptible population decreases monotonically towards zero however these assumptions are not valid in the case of the spread of the covid19 virus since new 30 epicentres spring up around the globe at different times to account for this the sir model that we propose here does not consider the total population and takes the susceptible population as a variable that can be adjusted at various times to account for new infected individuals spreading throughout a community resulting in an increase in the susceptible population ie to the socalled surges the sir model we introduce here is given by the same simple system of three ordinary differential equations odes with the classic sir model and can be used to gain 35 a better understanding of how the virus spreads within a community of variable populations in time when surges occur importantly it can be used to make predictions of the number of infections and deaths that may occur in the future and provide an estimate of the time scale for the duration of the virus within a community it also provides us with insights on how we might lessen the impact of the virus what is nearly impossible to discern from the recorded data alone consequently our sir model can provide a theoretical framework and predictions that 40 can be used by government authorities to control the spread of covid19</th>\n",
       "      <td>372947b39005f7105cf7ecd4ce618174a655f9be</td>\n",
       "    </tr>\n",
       "    <tr>\n",
       "      <th>in our study we used covid19 datasets from [29] in the form of timeseries spanning january to june 2020 in particular the time series are composed of three columns which represent the total cases i d tot  active cases i d and deaths d d in time rows these datasets were used to update parameters of the sir model to understand the effects and estimate the trend of the disease in various communities represented by china south korea india australia usa italy and the state of texas in the usa this allowed us to estimate the development of covid19 spread in these communities by obtaining estimates for the number of deaths d susceptible s infected i and removed r m populations in time consequently we have been able to estimate its characteristics for these communities and assess the effectiveness of modelling the disease</th>\n",
       "      <td>372947b39005f7105cf7ecd4ce618174a655f9be</td>\n",
       "    </tr>\n",
       "    <tr>\n",
       "      <th>the paper is organised as following in sec 2 we introduce the sir model and discuss its various aspects in 50 sec 3 we explain the approach we used to study the data in [29] and in sec 4 we present the results of our analysis for china south korea india australia usa italy and the state of texas in the usa section 5 discusses the implications of our study to the flattening the curve approach finally in sec 6 we conclude our work and discuss the outcomes of our analysis and its connection to the evidence that has been already collected on the spread of covid19 worldwide 55 2 the sir model that can accommodate surges in the susceptible population</th>\n",
       "      <td>372947b39005f7105cf7ecd4ce618174a655f9be</td>\n",
       "    </tr>\n",
       "  </tbody>\n",
       "</table>\n",
       "</div>"
      ],
      "text/plain": [
       "                                                                                    paper_id\n",
       "in december 2019 a novel strand of coronavirus ...  372947b39005f7105cf7ecd4ce618174a655f9be\n",
       "it is imperative that mathematical models are d...  372947b39005f7105cf7ecd4ce618174a655f9be\n",
       "here we propose the use of a novel sir model wi...  372947b39005f7105cf7ecd4ce618174a655f9be\n",
       "in our study we used covid19 datasets from [29]...  372947b39005f7105cf7ecd4ce618174a655f9be\n",
       "the paper is organised as following in sec 2 we...  372947b39005f7105cf7ecd4ce618174a655f9be"
      ]
     },
     "execution_count": 29,
     "metadata": {},
     "output_type": "execute_result"
    }
   ],
   "source": [
    "df_sentences = pd.DataFrame({\"paper_id\":paper_id_list},index=body_text_list)\n",
    "df_sentences.to_csv(\"Data/covid_sentences.csv\")\n",
    "df_sentences.head()"
   ]
  },
  {
   "cell_type": "code",
   "execution_count": 30,
   "metadata": {},
   "outputs": [
    {
     "data": {
      "text/html": [
       "<div>\n",
       "<style scoped>\n",
       "    .dataframe tbody tr th:only-of-type {\n",
       "        vertical-align: middle;\n",
       "    }\n",
       "\n",
       "    .dataframe tbody tr th {\n",
       "        vertical-align: top;\n",
       "    }\n",
       "\n",
       "    .dataframe thead th {\n",
       "        text-align: right;\n",
       "    }\n",
       "</style>\n",
       "<table border=\"1\" class=\"dataframe\">\n",
       "  <thead>\n",
       "    <tr style=\"text-align: right;\">\n",
       "      <th></th>\n",
       "      <th>paper_id</th>\n",
       "    </tr>\n",
       "  </thead>\n",
       "  <tbody>\n",
       "    <tr>\n",
       "      <th>in december 2019 a novel strand of coronavirus sarscov2 was identified in wuhan hubei province china causing a severe and potentially fatal respiratory syndrome ie covid19 since then it has become a pandemic declared by world health organization who on march 11 which has spread around the globe [1 2 3 4 5]  who published in its website preliminary guidelines with public health care for the countries to deal with the 5 pandemic [6]  since then the infectious disease has become a public health threat italy and usa are severely affected by covid19 [7 8 9]  millions of people are forced by national governments to stay in selfisolation and in difficult conditions the disease is growing fast in many countries around the world in the absence of availability of a proper medicine or vaccine currently social distancing selfquarantine and wearing a face mask have been emerged as the most widelyused strategy for the mitigation and control of the pandemic 10 in this context mathematical models are required to estimate disease transmission recovery deaths and other significant parameters separately for various countries that is for different specific regions of high to low reported cases of covid19 different countries have already taken precise and differentiated measures that are important to control the spread of the disease however still now important factors such as population density insufficient evidence for different symptoms transmission mechanism and unavailability of a proper vaccine makes it difficult 15 to deal with such a highly infectious and deadly disease especially in high population density countries such as india [10 11 12]  recently many research articles have adopted the modelling approach using real incidence datasets from affected countries and have investigated different characteristics as a function of various parameters of the outbreak and the effects of intervention strategies in different countries respective to their current situations</th>\n",
       "      <td>372947b39005f7105cf7ecd4ce618174a655f9be</td>\n",
       "    </tr>\n",
       "    <tr>\n",
       "      <th>it is imperative that mathematical models are developed to provide insights and make predictions about the 20 pandemic to plan effective control strategies and policies [13 14 15]  modelling approaches [8 16 17 18 19 20 21] are helpful to understand and predict the possibility and severity of the disease outbreak and provide key information to determine the intensity of covid19 disease intervention the susceptibleinfectedremoved sir model and its extended modifications [22 23 24 25]  such as the extendedsusceptibleinfectedremoved esir mathematical model in various forms have been used in previous studies [26 27 28] to model the spread of 25 covid19 within communities</th>\n",
       "      <td>372947b39005f7105cf7ecd4ce618174a655f9be</td>\n",
       "    </tr>\n",
       "    <tr>\n",
       "      <th>here we propose the use of a novel sir model with different characteristics one of the major assumptions of the classic sir model is that there is a homogeneous mixing of the infected and susceptible populations and that the total population is constant in time in the classic sir model the susceptible population decreases monotonically towards zero however these assumptions are not valid in the case of the spread of the covid19 virus since new 30 epicentres spring up around the globe at different times to account for this the sir model that we propose here does not consider the total population and takes the susceptible population as a variable that can be adjusted at various times to account for new infected individuals spreading throughout a community resulting in an increase in the susceptible population ie to the socalled surges the sir model we introduce here is given by the same simple system of three ordinary differential equations odes with the classic sir model and can be used to gain 35 a better understanding of how the virus spreads within a community of variable populations in time when surges occur importantly it can be used to make predictions of the number of infections and deaths that may occur in the future and provide an estimate of the time scale for the duration of the virus within a community it also provides us with insights on how we might lessen the impact of the virus what is nearly impossible to discern from the recorded data alone consequently our sir model can provide a theoretical framework and predictions that 40 can be used by government authorities to control the spread of covid19</th>\n",
       "      <td>372947b39005f7105cf7ecd4ce618174a655f9be</td>\n",
       "    </tr>\n",
       "    <tr>\n",
       "      <th>in our study we used covid19 datasets from [29] in the form of timeseries spanning january to june 2020 in particular the time series are composed of three columns which represent the total cases i d tot  active cases i d and deaths d d in time rows these datasets were used to update parameters of the sir model to understand the effects and estimate the trend of the disease in various communities represented by china south korea india australia usa italy and the state of texas in the usa this allowed us to estimate the development of covid19 spread in these communities by obtaining estimates for the number of deaths d susceptible s infected i and removed r m populations in time consequently we have been able to estimate its characteristics for these communities and assess the effectiveness of modelling the disease</th>\n",
       "      <td>372947b39005f7105cf7ecd4ce618174a655f9be</td>\n",
       "    </tr>\n",
       "    <tr>\n",
       "      <th>the paper is organised as following in sec 2 we introduce the sir model and discuss its various aspects in 50 sec 3 we explain the approach we used to study the data in [29] and in sec 4 we present the results of our analysis for china south korea india australia usa italy and the state of texas in the usa section 5 discusses the implications of our study to the flattening the curve approach finally in sec 6 we conclude our work and discuss the outcomes of our analysis and its connection to the evidence that has been already collected on the spread of covid19 worldwide 55 2 the sir model that can accommodate surges in the susceptible population</th>\n",
       "      <td>372947b39005f7105cf7ecd4ce618174a655f9be</td>\n",
       "    </tr>\n",
       "  </tbody>\n",
       "</table>\n",
       "</div>"
      ],
      "text/plain": [
       "                                                                                    paper_id\n",
       "in december 2019 a novel strand of coronavirus ...  372947b39005f7105cf7ecd4ce618174a655f9be\n",
       "it is imperative that mathematical models are d...  372947b39005f7105cf7ecd4ce618174a655f9be\n",
       "here we propose the use of a novel sir model wi...  372947b39005f7105cf7ecd4ce618174a655f9be\n",
       "in our study we used covid19 datasets from [29]...  372947b39005f7105cf7ecd4ce618174a655f9be\n",
       "the paper is organised as following in sec 2 we...  372947b39005f7105cf7ecd4ce618174a655f9be"
      ]
     },
     "execution_count": 30,
     "metadata": {},
     "output_type": "execute_result"
    }
   ],
   "source": [
    "f_sentences = pd.DataFrame({\"paper_id\":paper_id_list,\"title\":title_list,\"abstract\":abstract_list,\"abstract_summary\":abstract_summary_list},index=body_text_list)\n",
    "df_sentences.to_csv(\"Data/covid_sentences_Full.csv\")\n",
    "df_sentences.head()"
   ]
  },
  {
   "cell_type": "code",
   "execution_count": 36,
   "metadata": {},
   "outputs": [],
   "source": [
    "#Data Embedding\n",
    "\n",
    "\n",
    "import pandas as pd\n",
    "from tqdm import tqdm\n",
    "\n",
    "df_sentences = pd.read_csv(\"Data/covid_sentences.csv\")\n",
    "df_sentences = df_sentences.set_index(\"Unnamed: 0\")"
   ]
  },
  {
   "cell_type": "code",
   "execution_count": 37,
   "metadata": {},
   "outputs": [
    {
     "data": {
      "text/plain": [
       "361001"
      ]
     },
     "execution_count": 37,
     "metadata": {},
     "output_type": "execute_result"
    }
   ],
   "source": [
    "\n",
    "df_sentences = df_sentences[\"paper_id\"].to_dict()\n",
    "df_sentences_list = list(df_sentences.keys())\n",
    "len(df_sentences_list)\n",
    "\n"
   ]
  },
  {
   "cell_type": "code",
   "execution_count": 38,
   "metadata": {},
   "outputs": [
    {
     "data": {
      "text/plain": [
       "['in december 2019 a novel strand of coronavirus sarscov2 was identified in wuhan hubei province china causing a severe and potentially fatal respiratory syndrome ie covid19 since then it has become a pandemic declared by world health organization who on march 11 which has spread around the globe [1 2 3 4 5]  who published in its website preliminary guidelines with public health care for the countries to deal with the 5 pandemic [6]  since then the infectious disease has become a public health threat italy and usa are severely affected by covid19 [7 8 9]  millions of people are forced by national governments to stay in selfisolation and in difficult conditions the disease is growing fast in many countries around the world in the absence of availability of a proper medicine or vaccine currently social distancing selfquarantine and wearing a face mask have been emerged as the most widelyused strategy for the mitigation and control of the pandemic 10 in this context mathematical models are required to estimate disease transmission recovery deaths and other significant parameters separately for various countries that is for different specific regions of high to low reported cases of covid19 different countries have already taken precise and differentiated measures that are important to control the spread of the disease however still now important factors such as population density insufficient evidence for different symptoms transmission mechanism and unavailability of a proper vaccine makes it difficult 15 to deal with such a highly infectious and deadly disease especially in high population density countries such as india [10 11 12]  recently many research articles have adopted the modelling approach using real incidence datasets from affected countries and have investigated different characteristics as a function of various parameters of the outbreak and the effects of intervention strategies in different countries respective to their current situations',\n",
       " 'it is imperative that mathematical models are developed to provide insights and make predictions about the 20 pandemic to plan effective control strategies and policies [13 14 15]  modelling approaches [8 16 17 18 19 20 21] are helpful to understand and predict the possibility and severity of the disease outbreak and provide key information to determine the intensity of covid19 disease intervention the susceptibleinfectedremoved sir model and its extended modifications [22 23 24 25]  such as the extendedsusceptibleinfectedremoved esir mathematical model in various forms have been used in previous studies [26 27 28] to model the spread of 25 covid19 within communities',\n",
       " 'here we propose the use of a novel sir model with different characteristics one of the major assumptions of the classic sir model is that there is a homogeneous mixing of the infected and susceptible populations and that the total population is constant in time in the classic sir model the susceptible population decreases monotonically towards zero however these assumptions are not valid in the case of the spread of the covid19 virus since new 30 epicentres spring up around the globe at different times to account for this the sir model that we propose here does not consider the total population and takes the susceptible population as a variable that can be adjusted at various times to account for new infected individuals spreading throughout a community resulting in an increase in the susceptible population ie to the socalled surges the sir model we introduce here is given by the same simple system of three ordinary differential equations odes with the classic sir model and can be used to gain 35 a better understanding of how the virus spreads within a community of variable populations in time when surges occur importantly it can be used to make predictions of the number of infections and deaths that may occur in the future and provide an estimate of the time scale for the duration of the virus within a community it also provides us with insights on how we might lessen the impact of the virus what is nearly impossible to discern from the recorded data alone consequently our sir model can provide a theoretical framework and predictions that 40 can be used by government authorities to control the spread of covid19',\n",
       " 'in our study we used covid19 datasets from [29] in the form of timeseries spanning january to june 2020 in particular the time series are composed of three columns which represent the total cases i d tot  active cases i d and deaths d d in time rows these datasets were used to update parameters of the sir model to understand the effects and estimate the trend of the disease in various communities represented by china south korea india australia usa italy and the state of texas in the usa this allowed us to estimate the development of covid19 spread in these communities by obtaining estimates for the number of deaths d susceptible s infected i and removed r m populations in time consequently we have been able to estimate its characteristics for these communities and assess the effectiveness of modelling the disease',\n",
       " 'the paper is organised as following in sec 2 we introduce the sir model and discuss its various aspects in 50 sec 3 we explain the approach we used to study the data in [29] and in sec 4 we present the results of our analysis for china south korea india australia usa italy and the state of texas in the usa section 5 discusses the implications of our study to the flattening the curve approach finally in sec 6 we conclude our work and discuss the outcomes of our analysis and its connection to the evidence that has been already collected on the spread of covid19 worldwide 55 2 the sir model that can accommodate surges in the susceptible population']"
      ]
     },
     "execution_count": 38,
     "metadata": {},
     "output_type": "execute_result"
    }
   ],
   "source": [
    "list(df_sentences.keys())[:5]"
   ]
  },
  {
   "cell_type": "code",
   "execution_count": 39,
   "metadata": {},
   "outputs": [
    {
     "name": "stderr",
     "output_type": "stream",
     "text": [
      "100%|██████████| 361001/361001 [00:00<00:00, 1129094.10it/s]\n"
     ]
    }
   ],
   "source": [
    "df_sentences_list = [str(d) for d in tqdm(df_sentences_list)]"
   ]
  },
  {
   "cell_type": "code",
   "execution_count": 40,
   "metadata": {},
   "outputs": [
    {
     "data": {
      "text/html": [
       "<div>\n",
       "<style scoped>\n",
       "    .dataframe tbody tr th:only-of-type {\n",
       "        vertical-align: middle;\n",
       "    }\n",
       "\n",
       "    .dataframe tbody tr th {\n",
       "        vertical-align: top;\n",
       "    }\n",
       "\n",
       "    .dataframe thead th {\n",
       "        text-align: right;\n",
       "    }\n",
       "</style>\n",
       "<table border=\"1\" class=\"dataframe\">\n",
       "  <thead>\n",
       "    <tr style=\"text-align: right;\">\n",
       "      <th></th>\n",
       "      <th>paper_id</th>\n",
       "    </tr>\n",
       "  </thead>\n",
       "  <tbody>\n",
       "    <tr>\n",
       "      <th>in december 2019 a novel strand of coronavirus sarscov2 was identified in wuhan hubei province china causing a severe and potentially fatal respiratory syndrome ie covid19 since then it has become a pandemic declared by world health organization who on march 11 which has spread around the globe [1 2 3 4 5]  who published in its website preliminary guidelines with public health care for the countries to deal with the 5 pandemic [6]  since then the infectious disease has become a public health threat italy and usa are severely affected by covid19 [7 8 9]  millions of people are forced by national governments to stay in selfisolation and in difficult conditions the disease is growing fast in many countries around the world in the absence of availability of a proper medicine or vaccine currently social distancing selfquarantine and wearing a face mask have been emerged as the most widelyused strategy for the mitigation and control of the pandemic 10 in this context mathematical models are required to estimate disease transmission recovery deaths and other significant parameters separately for various countries that is for different specific regions of high to low reported cases of covid19 different countries have already taken precise and differentiated measures that are important to control the spread of the disease however still now important factors such as population density insufficient evidence for different symptoms transmission mechanism and unavailability of a proper vaccine makes it difficult 15 to deal with such a highly infectious and deadly disease especially in high population density countries such as india [10 11 12]  recently many research articles have adopted the modelling approach using real incidence datasets from affected countries and have investigated different characteristics as a function of various parameters of the outbreak and the effects of intervention strategies in different countries respective to their current situations</th>\n",
       "      <td>372947b39005f7105cf7ecd4ce618174a655f9be</td>\n",
       "    </tr>\n",
       "    <tr>\n",
       "      <th>it is imperative that mathematical models are developed to provide insights and make predictions about the 20 pandemic to plan effective control strategies and policies [13 14 15]  modelling approaches [8 16 17 18 19 20 21] are helpful to understand and predict the possibility and severity of the disease outbreak and provide key information to determine the intensity of covid19 disease intervention the susceptibleinfectedremoved sir model and its extended modifications [22 23 24 25]  such as the extendedsusceptibleinfectedremoved esir mathematical model in various forms have been used in previous studies [26 27 28] to model the spread of 25 covid19 within communities</th>\n",
       "      <td>372947b39005f7105cf7ecd4ce618174a655f9be</td>\n",
       "    </tr>\n",
       "    <tr>\n",
       "      <th>here we propose the use of a novel sir model with different characteristics one of the major assumptions of the classic sir model is that there is a homogeneous mixing of the infected and susceptible populations and that the total population is constant in time in the classic sir model the susceptible population decreases monotonically towards zero however these assumptions are not valid in the case of the spread of the covid19 virus since new 30 epicentres spring up around the globe at different times to account for this the sir model that we propose here does not consider the total population and takes the susceptible population as a variable that can be adjusted at various times to account for new infected individuals spreading throughout a community resulting in an increase in the susceptible population ie to the socalled surges the sir model we introduce here is given by the same simple system of three ordinary differential equations odes with the classic sir model and can be used to gain 35 a better understanding of how the virus spreads within a community of variable populations in time when surges occur importantly it can be used to make predictions of the number of infections and deaths that may occur in the future and provide an estimate of the time scale for the duration of the virus within a community it also provides us with insights on how we might lessen the impact of the virus what is nearly impossible to discern from the recorded data alone consequently our sir model can provide a theoretical framework and predictions that 40 can be used by government authorities to control the spread of covid19</th>\n",
       "      <td>372947b39005f7105cf7ecd4ce618174a655f9be</td>\n",
       "    </tr>\n",
       "    <tr>\n",
       "      <th>in our study we used covid19 datasets from [29] in the form of timeseries spanning january to june 2020 in particular the time series are composed of three columns which represent the total cases i d tot  active cases i d and deaths d d in time rows these datasets were used to update parameters of the sir model to understand the effects and estimate the trend of the disease in various communities represented by china south korea india australia usa italy and the state of texas in the usa this allowed us to estimate the development of covid19 spread in these communities by obtaining estimates for the number of deaths d susceptible s infected i and removed r m populations in time consequently we have been able to estimate its characteristics for these communities and assess the effectiveness of modelling the disease</th>\n",
       "      <td>372947b39005f7105cf7ecd4ce618174a655f9be</td>\n",
       "    </tr>\n",
       "    <tr>\n",
       "      <th>the paper is organised as following in sec 2 we introduce the sir model and discuss its various aspects in 50 sec 3 we explain the approach we used to study the data in [29] and in sec 4 we present the results of our analysis for china south korea india australia usa italy and the state of texas in the usa section 5 discusses the implications of our study to the flattening the curve approach finally in sec 6 we conclude our work and discuss the outcomes of our analysis and its connection to the evidence that has been already collected on the spread of covid19 worldwide 55 2 the sir model that can accommodate surges in the susceptible population</th>\n",
       "      <td>372947b39005f7105cf7ecd4ce618174a655f9be</td>\n",
       "    </tr>\n",
       "  </tbody>\n",
       "</table>\n",
       "</div>"
      ],
      "text/plain": [
       "                                                                                    paper_id\n",
       "in december 2019 a novel strand of coronavirus ...  372947b39005f7105cf7ecd4ce618174a655f9be\n",
       "it is imperative that mathematical models are d...  372947b39005f7105cf7ecd4ce618174a655f9be\n",
       "here we propose the use of a novel sir model wi...  372947b39005f7105cf7ecd4ce618174a655f9be\n",
       "in our study we used covid19 datasets from [29]...  372947b39005f7105cf7ecd4ce618174a655f9be\n",
       "the paper is organised as following in sec 2 we...  372947b39005f7105cf7ecd4ce618174a655f9be"
      ]
     },
     "execution_count": 40,
     "metadata": {},
     "output_type": "execute_result"
    }
   ],
   "source": [
    "df = pd.read_csv(\"Data/covid_sentences_Full.csv\", index_col=0)\n",
    "df.head()"
   ]
  },
  {
   "cell_type": "code",
   "execution_count": 3,
   "metadata": {},
   "outputs": [
    {
     "ename": "NameError",
     "evalue": "name 'df_sentences_list' is not defined",
     "output_type": "error",
     "traceback": [
      "\u001b[0;31m---------------------------------------------------------------------------\u001b[0m",
      "\u001b[0;31mNameError\u001b[0m                                 Traceback (most recent call last)",
      "\u001b[0;32m<ipython-input-3-d3754c1156b6>\u001b[0m in \u001b[0;36m<module>\u001b[0;34m\u001b[0m\n\u001b[1;32m      7\u001b[0m \u001b[0;34m\u001b[0m\u001b[0m\n\u001b[1;32m      8\u001b[0m \u001b[0;34m\u001b[0m\u001b[0m\n\u001b[0;32m----> 9\u001b[0;31m \u001b[0mcorpus\u001b[0m \u001b[0;34m=\u001b[0m \u001b[0mdf_sentences_list\u001b[0m\u001b[0;34m\u001b[0m\u001b[0;34m\u001b[0m\u001b[0m\n\u001b[0m\u001b[1;32m     10\u001b[0m \u001b[0;31m#corpus_embeddings = embedder.encode(corpus,show_progress_bar=True)\u001b[0m\u001b[0;34m\u001b[0m\u001b[0;34m\u001b[0m\u001b[0;34m\u001b[0m\u001b[0m\n\u001b[1;32m     11\u001b[0m \u001b[0;31m#Uncomment above line to train BERT embedding on entire corpus: Estimated time >4 hours.\u001b[0m\u001b[0;34m\u001b[0m\u001b[0;34m\u001b[0m\u001b[0;34m\u001b[0m\u001b[0m\n",
      "\u001b[0;31mNameError\u001b[0m: name 'df_sentences_list' is not defined"
     ]
    }
   ],
   "source": [
    "#Courtesy: https://github.com/UKPLab/sentence-transformers/blob/master/examples/application_semantic_search.py\n",
    "\n",
    "from sentence_transformers import SentenceTransformer\n",
    "import scipy.spatial\n",
    "import pickle as pkl\n",
    "embedder = SentenceTransformer('bert-base-nli-mean-tokens')\n",
    "\n",
    "\n",
    "corpus = df_sentences_list\n",
    "#corpus_embeddings = embedder.encode(corpus,show_progress_bar=True)\n",
    "#Uncomment above line to train BERT embedding on entire corpus: Estimated time >4 hours. \n",
    "\"\"\"Sample corpus embedding created using subset of data: corpus_embedding.pkl, link shared in README\"\"\""
   ]
  },
  {
   "cell_type": "code",
   "execution_count": null,
   "metadata": {},
   "outputs": [],
   "source": [
    "import pickle as pkl\n",
    "\n",
    "emb=open('corpus_embedding','wb')\n",
    "pkl.dump(corpus_embeddings,emb)\n",
    "emb.close()\n",
    "    \n",
    "    "
   ]
  },
  {
   "cell_type": "code",
   "execution_count": null,
   "metadata": {},
   "outputs": [],
   "source": []
  },
  {
   "cell_type": "code",
   "execution_count": null,
   "metadata": {},
   "outputs": [],
   "source": []
  }
 ],
 "metadata": {
  "kernelspec": {
   "display_name": "Python 3",
   "language": "python",
   "name": "python3"
  },
  "language_info": {
   "codemirror_mode": {
    "name": "ipython",
    "version": 3
   },
   "file_extension": ".py",
   "mimetype": "text/x-python",
   "name": "python",
   "nbconvert_exporter": "python",
   "pygments_lexer": "ipython3",
   "version": "3.7.3"
  }
 },
 "nbformat": 4,
 "nbformat_minor": 2
}
